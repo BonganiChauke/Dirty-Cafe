{
 "cells": [
  {
   "cell_type": "markdown",
   "id": "28547793",
   "metadata": {},
   "source": [
    "# Importing Modules"
   ]
  },
  {
   "cell_type": "code",
   "execution_count": 1,
   "id": "0bfa1f9a",
   "metadata": {},
   "outputs": [],
   "source": [
    "#importing the required libraries\n",
    "import pandas as np"
   ]
  },
  {
   "cell_type": "markdown",
   "id": "351253fc",
   "metadata": {},
   "source": [
    "# Loading Dataset"
   ]
  },
  {
   "cell_type": "code",
   "execution_count": 2,
   "id": "b5779f14",
   "metadata": {},
   "outputs": [],
   "source": [
    "# loading the dataset\n",
    "data = np.read_csv(r\"dirty_cafe_sales.csv\")"
   ]
  },
  {
   "cell_type": "code",
   "execution_count": 3,
   "id": "cc25a460",
   "metadata": {},
   "outputs": [
    {
     "data": {
      "application/vnd.microsoft.datawrangler.viewer.v0+json": {
       "columns": [
        {
         "name": "index",
         "rawType": "int64",
         "type": "integer"
        },
        {
         "name": "Transaction ID",
         "rawType": "object",
         "type": "string"
        },
        {
         "name": "Item",
         "rawType": "object",
         "type": "string"
        },
        {
         "name": "Quantity",
         "rawType": "object",
         "type": "string"
        },
        {
         "name": "Price Per Unit",
         "rawType": "object",
         "type": "string"
        },
        {
         "name": "Total Spent",
         "rawType": "object",
         "type": "string"
        },
        {
         "name": "Payment Method",
         "rawType": "object",
         "type": "string"
        },
        {
         "name": "Location",
         "rawType": "object",
         "type": "string"
        },
        {
         "name": "Transaction Date",
         "rawType": "object",
         "type": "string"
        }
       ],
       "conversionMethod": "pd.DataFrame",
       "ref": "e2963814-2d60-4670-9102-1acfd1495623",
       "rows": [
        [
         "0",
         "TXN_1961373",
         "Coffee",
         "2",
         "2.0",
         "4.0",
         "Credit Card",
         "Takeaway",
         "2023-09-08"
        ],
        [
         "1",
         "TXN_4977031",
         "Cake",
         "4",
         "3.0",
         "12.0",
         "Cash",
         "In-store",
         "2023-05-16"
        ],
        [
         "2",
         "TXN_4271903",
         "Cookie",
         "4",
         "1.0",
         "ERROR",
         "Credit Card",
         "In-store",
         "2023-07-19"
        ],
        [
         "3",
         "TXN_7034554",
         "Salad",
         "2",
         "5.0",
         "10.0",
         "UNKNOWN",
         "UNKNOWN",
         "2023-04-27"
        ],
        [
         "4",
         "TXN_3160411",
         "Coffee",
         "2",
         "2.0",
         "4.0",
         "Digital Wallet",
         "In-store",
         "2023-06-11"
        ]
       ],
       "shape": {
        "columns": 8,
        "rows": 5
       }
      },
      "text/html": [
       "<div>\n",
       "<style scoped>\n",
       "    .dataframe tbody tr th:only-of-type {\n",
       "        vertical-align: middle;\n",
       "    }\n",
       "\n",
       "    .dataframe tbody tr th {\n",
       "        vertical-align: top;\n",
       "    }\n",
       "\n",
       "    .dataframe thead th {\n",
       "        text-align: right;\n",
       "    }\n",
       "</style>\n",
       "<table border=\"1\" class=\"dataframe\">\n",
       "  <thead>\n",
       "    <tr style=\"text-align: right;\">\n",
       "      <th></th>\n",
       "      <th>Transaction ID</th>\n",
       "      <th>Item</th>\n",
       "      <th>Quantity</th>\n",
       "      <th>Price Per Unit</th>\n",
       "      <th>Total Spent</th>\n",
       "      <th>Payment Method</th>\n",
       "      <th>Location</th>\n",
       "      <th>Transaction Date</th>\n",
       "    </tr>\n",
       "  </thead>\n",
       "  <tbody>\n",
       "    <tr>\n",
       "      <th>0</th>\n",
       "      <td>TXN_1961373</td>\n",
       "      <td>Coffee</td>\n",
       "      <td>2</td>\n",
       "      <td>2.0</td>\n",
       "      <td>4.0</td>\n",
       "      <td>Credit Card</td>\n",
       "      <td>Takeaway</td>\n",
       "      <td>2023-09-08</td>\n",
       "    </tr>\n",
       "    <tr>\n",
       "      <th>1</th>\n",
       "      <td>TXN_4977031</td>\n",
       "      <td>Cake</td>\n",
       "      <td>4</td>\n",
       "      <td>3.0</td>\n",
       "      <td>12.0</td>\n",
       "      <td>Cash</td>\n",
       "      <td>In-store</td>\n",
       "      <td>2023-05-16</td>\n",
       "    </tr>\n",
       "    <tr>\n",
       "      <th>2</th>\n",
       "      <td>TXN_4271903</td>\n",
       "      <td>Cookie</td>\n",
       "      <td>4</td>\n",
       "      <td>1.0</td>\n",
       "      <td>ERROR</td>\n",
       "      <td>Credit Card</td>\n",
       "      <td>In-store</td>\n",
       "      <td>2023-07-19</td>\n",
       "    </tr>\n",
       "    <tr>\n",
       "      <th>3</th>\n",
       "      <td>TXN_7034554</td>\n",
       "      <td>Salad</td>\n",
       "      <td>2</td>\n",
       "      <td>5.0</td>\n",
       "      <td>10.0</td>\n",
       "      <td>UNKNOWN</td>\n",
       "      <td>UNKNOWN</td>\n",
       "      <td>2023-04-27</td>\n",
       "    </tr>\n",
       "    <tr>\n",
       "      <th>4</th>\n",
       "      <td>TXN_3160411</td>\n",
       "      <td>Coffee</td>\n",
       "      <td>2</td>\n",
       "      <td>2.0</td>\n",
       "      <td>4.0</td>\n",
       "      <td>Digital Wallet</td>\n",
       "      <td>In-store</td>\n",
       "      <td>2023-06-11</td>\n",
       "    </tr>\n",
       "  </tbody>\n",
       "</table>\n",
       "</div>"
      ],
      "text/plain": [
       "  Transaction ID    Item Quantity Price Per Unit Total Spent  Payment Method  \\\n",
       "0    TXN_1961373  Coffee        2            2.0         4.0     Credit Card   \n",
       "1    TXN_4977031    Cake        4            3.0        12.0            Cash   \n",
       "2    TXN_4271903  Cookie        4            1.0       ERROR     Credit Card   \n",
       "3    TXN_7034554   Salad        2            5.0        10.0         UNKNOWN   \n",
       "4    TXN_3160411  Coffee        2            2.0         4.0  Digital Wallet   \n",
       "\n",
       "   Location Transaction Date  \n",
       "0  Takeaway       2023-09-08  \n",
       "1  In-store       2023-05-16  \n",
       "2  In-store       2023-07-19  \n",
       "3   UNKNOWN       2023-04-27  \n",
       "4  In-store       2023-06-11  "
      ]
     },
     "execution_count": 3,
     "metadata": {},
     "output_type": "execute_result"
    }
   ],
   "source": [
    "# displaying the first few rows of the dataset\n",
    "data.head()"
   ]
  },
  {
   "cell_type": "markdown",
   "id": "c69e25a2",
   "metadata": {},
   "source": [
    "# Removing Trailing spaces on Columns"
   ]
  },
  {
   "cell_type": "code",
   "execution_count": 4,
   "id": "0c4d70f1",
   "metadata": {},
   "outputs": [],
   "source": [
    "# Removing trailing spaces on column names and add an underscore for easy readability\n",
    "data.columns = data.columns.str.strip().str.replace(\" \", \"_\");"
   ]
  },
  {
   "cell_type": "code",
   "execution_count": 5,
   "id": "1808fe0a",
   "metadata": {},
   "outputs": [
    {
     "data": {
      "application/vnd.microsoft.datawrangler.viewer.v0+json": {
       "columns": [
        {
         "name": "index",
         "rawType": "int64",
         "type": "integer"
        },
        {
         "name": "Transaction_ID",
         "rawType": "object",
         "type": "string"
        },
        {
         "name": "Item",
         "rawType": "object",
         "type": "string"
        },
        {
         "name": "Quantity",
         "rawType": "object",
         "type": "string"
        },
        {
         "name": "Price_Per_Unit",
         "rawType": "object",
         "type": "string"
        },
        {
         "name": "Total_Spent",
         "rawType": "object",
         "type": "string"
        },
        {
         "name": "Payment_Method",
         "rawType": "object",
         "type": "string"
        },
        {
         "name": "Location",
         "rawType": "object",
         "type": "string"
        },
        {
         "name": "Transaction_Date",
         "rawType": "object",
         "type": "string"
        }
       ],
       "conversionMethod": "pd.DataFrame",
       "ref": "f82fd40f-5676-4b7f-87ca-86d8f81c7c3f",
       "rows": [
        [
         "0",
         "TXN_1961373",
         "Coffee",
         "2",
         "2.0",
         "4.0",
         "Credit Card",
         "Takeaway",
         "2023-09-08"
        ],
        [
         "1",
         "TXN_4977031",
         "Cake",
         "4",
         "3.0",
         "12.0",
         "Cash",
         "In-store",
         "2023-05-16"
        ],
        [
         "2",
         "TXN_4271903",
         "Cookie",
         "4",
         "1.0",
         "ERROR",
         "Credit Card",
         "In-store",
         "2023-07-19"
        ],
        [
         "3",
         "TXN_7034554",
         "Salad",
         "2",
         "5.0",
         "10.0",
         "UNKNOWN",
         "UNKNOWN",
         "2023-04-27"
        ],
        [
         "4",
         "TXN_3160411",
         "Coffee",
         "2",
         "2.0",
         "4.0",
         "Digital Wallet",
         "In-store",
         "2023-06-11"
        ]
       ],
       "shape": {
        "columns": 8,
        "rows": 5
       }
      },
      "text/html": [
       "<div>\n",
       "<style scoped>\n",
       "    .dataframe tbody tr th:only-of-type {\n",
       "        vertical-align: middle;\n",
       "    }\n",
       "\n",
       "    .dataframe tbody tr th {\n",
       "        vertical-align: top;\n",
       "    }\n",
       "\n",
       "    .dataframe thead th {\n",
       "        text-align: right;\n",
       "    }\n",
       "</style>\n",
       "<table border=\"1\" class=\"dataframe\">\n",
       "  <thead>\n",
       "    <tr style=\"text-align: right;\">\n",
       "      <th></th>\n",
       "      <th>Transaction_ID</th>\n",
       "      <th>Item</th>\n",
       "      <th>Quantity</th>\n",
       "      <th>Price_Per_Unit</th>\n",
       "      <th>Total_Spent</th>\n",
       "      <th>Payment_Method</th>\n",
       "      <th>Location</th>\n",
       "      <th>Transaction_Date</th>\n",
       "    </tr>\n",
       "  </thead>\n",
       "  <tbody>\n",
       "    <tr>\n",
       "      <th>0</th>\n",
       "      <td>TXN_1961373</td>\n",
       "      <td>Coffee</td>\n",
       "      <td>2</td>\n",
       "      <td>2.0</td>\n",
       "      <td>4.0</td>\n",
       "      <td>Credit Card</td>\n",
       "      <td>Takeaway</td>\n",
       "      <td>2023-09-08</td>\n",
       "    </tr>\n",
       "    <tr>\n",
       "      <th>1</th>\n",
       "      <td>TXN_4977031</td>\n",
       "      <td>Cake</td>\n",
       "      <td>4</td>\n",
       "      <td>3.0</td>\n",
       "      <td>12.0</td>\n",
       "      <td>Cash</td>\n",
       "      <td>In-store</td>\n",
       "      <td>2023-05-16</td>\n",
       "    </tr>\n",
       "    <tr>\n",
       "      <th>2</th>\n",
       "      <td>TXN_4271903</td>\n",
       "      <td>Cookie</td>\n",
       "      <td>4</td>\n",
       "      <td>1.0</td>\n",
       "      <td>ERROR</td>\n",
       "      <td>Credit Card</td>\n",
       "      <td>In-store</td>\n",
       "      <td>2023-07-19</td>\n",
       "    </tr>\n",
       "    <tr>\n",
       "      <th>3</th>\n",
       "      <td>TXN_7034554</td>\n",
       "      <td>Salad</td>\n",
       "      <td>2</td>\n",
       "      <td>5.0</td>\n",
       "      <td>10.0</td>\n",
       "      <td>UNKNOWN</td>\n",
       "      <td>UNKNOWN</td>\n",
       "      <td>2023-04-27</td>\n",
       "    </tr>\n",
       "    <tr>\n",
       "      <th>4</th>\n",
       "      <td>TXN_3160411</td>\n",
       "      <td>Coffee</td>\n",
       "      <td>2</td>\n",
       "      <td>2.0</td>\n",
       "      <td>4.0</td>\n",
       "      <td>Digital Wallet</td>\n",
       "      <td>In-store</td>\n",
       "      <td>2023-06-11</td>\n",
       "    </tr>\n",
       "  </tbody>\n",
       "</table>\n",
       "</div>"
      ],
      "text/plain": [
       "  Transaction_ID    Item Quantity Price_Per_Unit Total_Spent  Payment_Method  \\\n",
       "0    TXN_1961373  Coffee        2            2.0         4.0     Credit Card   \n",
       "1    TXN_4977031    Cake        4            3.0        12.0            Cash   \n",
       "2    TXN_4271903  Cookie        4            1.0       ERROR     Credit Card   \n",
       "3    TXN_7034554   Salad        2            5.0        10.0         UNKNOWN   \n",
       "4    TXN_3160411  Coffee        2            2.0         4.0  Digital Wallet   \n",
       "\n",
       "   Location Transaction_Date  \n",
       "0  Takeaway       2023-09-08  \n",
       "1  In-store       2023-05-16  \n",
       "2  In-store       2023-07-19  \n",
       "3   UNKNOWN       2023-04-27  \n",
       "4  In-store       2023-06-11  "
      ]
     },
     "execution_count": 5,
     "metadata": {},
     "output_type": "execute_result"
    }
   ],
   "source": [
    "data.head()"
   ]
  },
  {
   "cell_type": "markdown",
   "id": "9bd71b01",
   "metadata": {},
   "source": [
    "# Remove extra spaces in strings fields"
   ]
  },
  {
   "cell_type": "code",
   "execution_count": 6,
   "id": "a55efd59",
   "metadata": {},
   "outputs": [],
   "source": [
    "# removing spaces in string values for all columns\n",
    "string_columns = data.select_dtypes(include=['object']).columns\n",
    "data[string_columns] = data[string_columns].apply(lambda x: x.str.strip() if x.dtype == \"object\" else x)"
   ]
  },
  {
   "cell_type": "code",
   "execution_count": 7,
   "id": "e2a8fe04",
   "metadata": {},
   "outputs": [
    {
     "data": {
      "application/vnd.microsoft.datawrangler.viewer.v0+json": {
       "columns": [
        {
         "name": "index",
         "rawType": "int64",
         "type": "integer"
        },
        {
         "name": "Transaction_ID",
         "rawType": "object",
         "type": "string"
        },
        {
         "name": "Item",
         "rawType": "object",
         "type": "string"
        },
        {
         "name": "Quantity",
         "rawType": "object",
         "type": "string"
        },
        {
         "name": "Price_Per_Unit",
         "rawType": "object",
         "type": "string"
        },
        {
         "name": "Total_Spent",
         "rawType": "object",
         "type": "string"
        },
        {
         "name": "Payment_Method",
         "rawType": "object",
         "type": "string"
        },
        {
         "name": "Location",
         "rawType": "object",
         "type": "string"
        },
        {
         "name": "Transaction_Date",
         "rawType": "object",
         "type": "string"
        }
       ],
       "conversionMethod": "pd.DataFrame",
       "ref": "ad8a2b9e-c16d-4264-a1e5-e6e351dbc698",
       "rows": [
        [
         "0",
         "TXN_1961373",
         "Coffee",
         "2",
         "2.0",
         "4.0",
         "Credit Card",
         "Takeaway",
         "2023-09-08"
        ],
        [
         "1",
         "TXN_4977031",
         "Cake",
         "4",
         "3.0",
         "12.0",
         "Cash",
         "In-store",
         "2023-05-16"
        ],
        [
         "2",
         "TXN_4271903",
         "Cookie",
         "4",
         "1.0",
         "ERROR",
         "Credit Card",
         "In-store",
         "2023-07-19"
        ],
        [
         "3",
         "TXN_7034554",
         "Salad",
         "2",
         "5.0",
         "10.0",
         "UNKNOWN",
         "UNKNOWN",
         "2023-04-27"
        ],
        [
         "4",
         "TXN_3160411",
         "Coffee",
         "2",
         "2.0",
         "4.0",
         "Digital Wallet",
         "In-store",
         "2023-06-11"
        ]
       ],
       "shape": {
        "columns": 8,
        "rows": 5
       }
      },
      "text/html": [
       "<div>\n",
       "<style scoped>\n",
       "    .dataframe tbody tr th:only-of-type {\n",
       "        vertical-align: middle;\n",
       "    }\n",
       "\n",
       "    .dataframe tbody tr th {\n",
       "        vertical-align: top;\n",
       "    }\n",
       "\n",
       "    .dataframe thead th {\n",
       "        text-align: right;\n",
       "    }\n",
       "</style>\n",
       "<table border=\"1\" class=\"dataframe\">\n",
       "  <thead>\n",
       "    <tr style=\"text-align: right;\">\n",
       "      <th></th>\n",
       "      <th>Transaction_ID</th>\n",
       "      <th>Item</th>\n",
       "      <th>Quantity</th>\n",
       "      <th>Price_Per_Unit</th>\n",
       "      <th>Total_Spent</th>\n",
       "      <th>Payment_Method</th>\n",
       "      <th>Location</th>\n",
       "      <th>Transaction_Date</th>\n",
       "    </tr>\n",
       "  </thead>\n",
       "  <tbody>\n",
       "    <tr>\n",
       "      <th>0</th>\n",
       "      <td>TXN_1961373</td>\n",
       "      <td>Coffee</td>\n",
       "      <td>2</td>\n",
       "      <td>2.0</td>\n",
       "      <td>4.0</td>\n",
       "      <td>Credit Card</td>\n",
       "      <td>Takeaway</td>\n",
       "      <td>2023-09-08</td>\n",
       "    </tr>\n",
       "    <tr>\n",
       "      <th>1</th>\n",
       "      <td>TXN_4977031</td>\n",
       "      <td>Cake</td>\n",
       "      <td>4</td>\n",
       "      <td>3.0</td>\n",
       "      <td>12.0</td>\n",
       "      <td>Cash</td>\n",
       "      <td>In-store</td>\n",
       "      <td>2023-05-16</td>\n",
       "    </tr>\n",
       "    <tr>\n",
       "      <th>2</th>\n",
       "      <td>TXN_4271903</td>\n",
       "      <td>Cookie</td>\n",
       "      <td>4</td>\n",
       "      <td>1.0</td>\n",
       "      <td>ERROR</td>\n",
       "      <td>Credit Card</td>\n",
       "      <td>In-store</td>\n",
       "      <td>2023-07-19</td>\n",
       "    </tr>\n",
       "    <tr>\n",
       "      <th>3</th>\n",
       "      <td>TXN_7034554</td>\n",
       "      <td>Salad</td>\n",
       "      <td>2</td>\n",
       "      <td>5.0</td>\n",
       "      <td>10.0</td>\n",
       "      <td>UNKNOWN</td>\n",
       "      <td>UNKNOWN</td>\n",
       "      <td>2023-04-27</td>\n",
       "    </tr>\n",
       "    <tr>\n",
       "      <th>4</th>\n",
       "      <td>TXN_3160411</td>\n",
       "      <td>Coffee</td>\n",
       "      <td>2</td>\n",
       "      <td>2.0</td>\n",
       "      <td>4.0</td>\n",
       "      <td>Digital Wallet</td>\n",
       "      <td>In-store</td>\n",
       "      <td>2023-06-11</td>\n",
       "    </tr>\n",
       "  </tbody>\n",
       "</table>\n",
       "</div>"
      ],
      "text/plain": [
       "  Transaction_ID    Item Quantity Price_Per_Unit Total_Spent  Payment_Method  \\\n",
       "0    TXN_1961373  Coffee        2            2.0         4.0     Credit Card   \n",
       "1    TXN_4977031    Cake        4            3.0        12.0            Cash   \n",
       "2    TXN_4271903  Cookie        4            1.0       ERROR     Credit Card   \n",
       "3    TXN_7034554   Salad        2            5.0        10.0         UNKNOWN   \n",
       "4    TXN_3160411  Coffee        2            2.0         4.0  Digital Wallet   \n",
       "\n",
       "   Location Transaction_Date  \n",
       "0  Takeaway       2023-09-08  \n",
       "1  In-store       2023-05-16  \n",
       "2  In-store       2023-07-19  \n",
       "3   UNKNOWN       2023-04-27  \n",
       "4  In-store       2023-06-11  "
      ]
     },
     "execution_count": 7,
     "metadata": {},
     "output_type": "execute_result"
    }
   ],
   "source": [
    "data.head()"
   ]
  },
  {
   "cell_type": "markdown",
   "id": "0360f0b4",
   "metadata": {},
   "source": [
    "# Converting Data Fields into appropriate data types"
   ]
  },
  {
   "cell_type": "code",
   "execution_count": 8,
   "id": "eba16f3f",
   "metadata": {},
   "outputs": [],
   "source": [
    "# converting Quantity, Price Per Unit, and Total Spent to a int data types\n",
    "int_columns = [\"Quantity\", \"Price_Per_Unit\", \"Total_Spent\"]\n",
    "\n",
    "# using for loop to change all column at once  \n",
    "for column in int_columns:\n",
    "    data[column] = np.to_numeric(data[column], errors='coerce')\n",
    "    # filling NaN values with 0 and converting to int\n",
    "    data[column] = data[column].fillna(0).astype(int)"
   ]
  },
  {
   "cell_type": "code",
   "execution_count": 9,
   "id": "9c94f0b3",
   "metadata": {},
   "outputs": [],
   "source": [
    "# converting Transaction_Date to datetime format\n",
    "data['Transaction_Date'] = np.to_datetime(data['Transaction_Date'], errors='coerce')"
   ]
  },
  {
   "cell_type": "markdown",
   "id": "d3971a67",
   "metadata": {},
   "source": [
    "# Replacing Invalid Placeholders"
   ]
  },
  {
   "cell_type": "code",
   "execution_count": 10,
   "id": "76bf74bd",
   "metadata": {},
   "outputs": [],
   "source": [
    "# replacing \"Error\" and \"Unknown\" values with NaN \n",
    "data.replace([\"ERROR\", \"UNKNOWN\"], np.NA, inplace=True)"
   ]
  },
  {
   "cell_type": "markdown",
   "id": "01035c3b",
   "metadata": {},
   "source": [
    "# Finding missing values"
   ]
  },
  {
   "cell_type": "code",
   "execution_count": 11,
   "id": "4c1d081f",
   "metadata": {},
   "outputs": [
    {
     "name": "stdout",
     "output_type": "stream",
     "text": [
      "Transaction_ID         0\n",
      "Item                 969\n",
      "Quantity               0\n",
      "Price_Per_Unit         0\n",
      "Total_Spent            0\n",
      "Payment_Method      3178\n",
      "Location            3961\n",
      "Transaction_Date     460\n",
      "dtype: int64\n",
      "Total null values: 8568\n"
     ]
    }
   ],
   "source": [
    "# finding missing values\n",
    "total_missing_value = data.isnull().sum()\n",
    "print(total_missing_value)\n",
    "\n",
    "# total null values\n",
    "print(f\"Total null values: {data.isnull().sum().sum()}\")"
   ]
  },
  {
   "cell_type": "code",
   "execution_count": 12,
   "id": "5393e8db",
   "metadata": {},
   "outputs": [
    {
     "name": "stdout",
     "output_type": "stream",
     "text": [
      "Item: 9.69%\n",
      "Payment_Method: 31.78%\n",
      "Location: 39.61%\n",
      "Transaction_Date: 4.6%\n"
     ]
    }
   ],
   "source": [
    "# percentage of missing values\n",
    "for column in data.columns:\n",
    "    percentage = data[column].isnull().mean()\n",
    "    if percentage > 0:\n",
    "        print(f'{column}: {round(percentage * 100,2)}%')"
   ]
  },
  {
   "cell_type": "code",
   "execution_count": 13,
   "id": "d04ff4a4",
   "metadata": {},
   "outputs": [
    {
     "name": "stdout",
     "output_type": "stream",
     "text": [
      "Transaction_ID      0\n",
      "Item                0\n",
      "Quantity            0\n",
      "Price_Per_Unit      0\n",
      "Total_Spent         0\n",
      "Payment_Method      0\n",
      "Location            0\n",
      "Transaction_Date    0\n",
      "dtype: int64\n"
     ]
    }
   ],
   "source": [
    "# defining a function to fill missing values\n",
    "columns_to_fill = ['Item','Quantity', 'Price_Per_Unit', 'Total_Spent', 'Payment_Method', 'Location', 'Transaction_Date']\n",
    "\n",
    "# filling missing values with 'Unknown'\n",
    "data[columns_to_fill] = data[columns_to_fill].fillna('Unknown')\n",
    "\n",
    "# checking if there are any missing values left\n",
    "missing_values = data.isnull().sum()\n",
    "print(missing_values)"
   ]
  },
  {
   "cell_type": "code",
   "execution_count": 14,
   "id": "7ce1d04a",
   "metadata": {},
   "outputs": [
    {
     "data": {
      "application/vnd.microsoft.datawrangler.viewer.v0+json": {
       "columns": [
        {
         "name": "index",
         "rawType": "int64",
         "type": "integer"
        },
        {
         "name": "Transaction_ID",
         "rawType": "object",
         "type": "string"
        },
        {
         "name": "Item",
         "rawType": "object",
         "type": "string"
        },
        {
         "name": "Quantity",
         "rawType": "int64",
         "type": "integer"
        },
        {
         "name": "Price_Per_Unit",
         "rawType": "int64",
         "type": "integer"
        },
        {
         "name": "Total_Spent",
         "rawType": "int64",
         "type": "integer"
        },
        {
         "name": "Payment_Method",
         "rawType": "object",
         "type": "string"
        },
        {
         "name": "Location",
         "rawType": "object",
         "type": "string"
        },
        {
         "name": "Transaction_Date",
         "rawType": "object",
         "type": "unknown"
        }
       ],
       "conversionMethod": "pd.DataFrame",
       "ref": "18ca9fd5-d44c-4550-9799-db7fd982ee54",
       "rows": [
        [
         "0",
         "TXN_1961373",
         "Coffee",
         "2",
         "2",
         "4",
         "Credit Card",
         "Takeaway",
         "2023-09-08 00:00:00"
        ],
        [
         "1",
         "TXN_4977031",
         "Cake",
         "4",
         "3",
         "12",
         "Cash",
         "In-store",
         "2023-05-16 00:00:00"
        ],
        [
         "2",
         "TXN_4271903",
         "Cookie",
         "4",
         "1",
         "0",
         "Credit Card",
         "In-store",
         "2023-07-19 00:00:00"
        ],
        [
         "3",
         "TXN_7034554",
         "Salad",
         "2",
         "5",
         "10",
         "Unknown",
         "Unknown",
         "2023-04-27 00:00:00"
        ],
        [
         "4",
         "TXN_3160411",
         "Coffee",
         "2",
         "2",
         "4",
         "Digital Wallet",
         "In-store",
         "2023-06-11 00:00:00"
        ]
       ],
       "shape": {
        "columns": 8,
        "rows": 5
       }
      },
      "text/html": [
       "<div>\n",
       "<style scoped>\n",
       "    .dataframe tbody tr th:only-of-type {\n",
       "        vertical-align: middle;\n",
       "    }\n",
       "\n",
       "    .dataframe tbody tr th {\n",
       "        vertical-align: top;\n",
       "    }\n",
       "\n",
       "    .dataframe thead th {\n",
       "        text-align: right;\n",
       "    }\n",
       "</style>\n",
       "<table border=\"1\" class=\"dataframe\">\n",
       "  <thead>\n",
       "    <tr style=\"text-align: right;\">\n",
       "      <th></th>\n",
       "      <th>Transaction_ID</th>\n",
       "      <th>Item</th>\n",
       "      <th>Quantity</th>\n",
       "      <th>Price_Per_Unit</th>\n",
       "      <th>Total_Spent</th>\n",
       "      <th>Payment_Method</th>\n",
       "      <th>Location</th>\n",
       "      <th>Transaction_Date</th>\n",
       "    </tr>\n",
       "  </thead>\n",
       "  <tbody>\n",
       "    <tr>\n",
       "      <th>0</th>\n",
       "      <td>TXN_1961373</td>\n",
       "      <td>Coffee</td>\n",
       "      <td>2</td>\n",
       "      <td>2</td>\n",
       "      <td>4</td>\n",
       "      <td>Credit Card</td>\n",
       "      <td>Takeaway</td>\n",
       "      <td>2023-09-08 00:00:00</td>\n",
       "    </tr>\n",
       "    <tr>\n",
       "      <th>1</th>\n",
       "      <td>TXN_4977031</td>\n",
       "      <td>Cake</td>\n",
       "      <td>4</td>\n",
       "      <td>3</td>\n",
       "      <td>12</td>\n",
       "      <td>Cash</td>\n",
       "      <td>In-store</td>\n",
       "      <td>2023-05-16 00:00:00</td>\n",
       "    </tr>\n",
       "    <tr>\n",
       "      <th>2</th>\n",
       "      <td>TXN_4271903</td>\n",
       "      <td>Cookie</td>\n",
       "      <td>4</td>\n",
       "      <td>1</td>\n",
       "      <td>0</td>\n",
       "      <td>Credit Card</td>\n",
       "      <td>In-store</td>\n",
       "      <td>2023-07-19 00:00:00</td>\n",
       "    </tr>\n",
       "    <tr>\n",
       "      <th>3</th>\n",
       "      <td>TXN_7034554</td>\n",
       "      <td>Salad</td>\n",
       "      <td>2</td>\n",
       "      <td>5</td>\n",
       "      <td>10</td>\n",
       "      <td>Unknown</td>\n",
       "      <td>Unknown</td>\n",
       "      <td>2023-04-27 00:00:00</td>\n",
       "    </tr>\n",
       "    <tr>\n",
       "      <th>4</th>\n",
       "      <td>TXN_3160411</td>\n",
       "      <td>Coffee</td>\n",
       "      <td>2</td>\n",
       "      <td>2</td>\n",
       "      <td>4</td>\n",
       "      <td>Digital Wallet</td>\n",
       "      <td>In-store</td>\n",
       "      <td>2023-06-11 00:00:00</td>\n",
       "    </tr>\n",
       "  </tbody>\n",
       "</table>\n",
       "</div>"
      ],
      "text/plain": [
       "  Transaction_ID    Item  Quantity  Price_Per_Unit  Total_Spent  \\\n",
       "0    TXN_1961373  Coffee         2               2            4   \n",
       "1    TXN_4977031    Cake         4               3           12   \n",
       "2    TXN_4271903  Cookie         4               1            0   \n",
       "3    TXN_7034554   Salad         2               5           10   \n",
       "4    TXN_3160411  Coffee         2               2            4   \n",
       "\n",
       "   Payment_Method  Location     Transaction_Date  \n",
       "0     Credit Card  Takeaway  2023-09-08 00:00:00  \n",
       "1            Cash  In-store  2023-05-16 00:00:00  \n",
       "2     Credit Card  In-store  2023-07-19 00:00:00  \n",
       "3         Unknown   Unknown  2023-04-27 00:00:00  \n",
       "4  Digital Wallet  In-store  2023-06-11 00:00:00  "
      ]
     },
     "execution_count": 14,
     "metadata": {},
     "output_type": "execute_result"
    }
   ],
   "source": [
    "data.head()"
   ]
  },
  {
   "cell_type": "code",
   "execution_count": 15,
   "id": "71c0971d",
   "metadata": {},
   "outputs": [
    {
     "name": "stdout",
     "output_type": "stream",
     "text": [
      "<class 'pandas.core.frame.DataFrame'>\n",
      "RangeIndex: 10000 entries, 0 to 9999\n",
      "Data columns (total 8 columns):\n",
      " #   Column            Non-Null Count  Dtype \n",
      "---  ------            --------------  ----- \n",
      " 0   Transaction_ID    10000 non-null  object\n",
      " 1   Item              10000 non-null  object\n",
      " 2   Quantity          10000 non-null  int64 \n",
      " 3   Price_Per_Unit    10000 non-null  int64 \n",
      " 4   Total_Spent       10000 non-null  int64 \n",
      " 5   Payment_Method    10000 non-null  object\n",
      " 6   Location          10000 non-null  object\n",
      " 7   Transaction_Date  10000 non-null  object\n",
      "dtypes: int64(3), object(5)\n",
      "memory usage: 625.1+ KB\n",
      "None\n"
     ]
    }
   ],
   "source": [
    "# checking the data types of the columns\n",
    "print(data.info())"
   ]
  },
  {
   "cell_type": "code",
   "execution_count": 16,
   "id": "ed9fc27b",
   "metadata": {},
   "outputs": [
    {
     "name": "stdout",
     "output_type": "stream",
     "text": [
      "           Quantity  Price_Per_Unit   Total_Spent\n",
      "count  10000.000000    10000.000000  10000.000000\n",
      "mean       2.883400        2.736100      8.443000\n",
      "std        1.528214        1.469038      6.194739\n",
      "min        0.000000        0.000000      0.000000\n",
      "25%        2.000000        1.000000      4.000000\n",
      "50%        3.000000        3.000000      7.000000\n",
      "75%        4.000000        4.000000     12.000000\n",
      "max        5.000000        5.000000     25.000000\n"
     ]
    }
   ],
   "source": [
    "# summary statistics of the data\n",
    "print(data.describe())"
   ]
  },
  {
   "cell_type": "code",
   "execution_count": null,
   "id": "baa404e9",
   "metadata": {},
   "outputs": [],
   "source": [
    "# In pandas data frame \n",
    "# Axis 0 refers to rows and Axis 1 refers to columns"
   ]
  },
  {
   "cell_type": "markdown",
   "id": "2c5407ab",
   "metadata": {},
   "source": [
    "# Calculating Total Units for missing values"
   ]
  },
  {
   "cell_type": "code",
   "execution_count": 17,
   "id": "b884890a",
   "metadata": {},
   "outputs": [],
   "source": [
    "# calculating missing values in Total Spent column\n",
    "data['Total_Spent'] = data['Quantity'] * data['Price_Per_Unit']"
   ]
  },
  {
   "cell_type": "markdown",
   "id": "ef5c1fca",
   "metadata": {},
   "source": [
    "# Calculating Price_Per_Units for missing values"
   ]
  },
  {
   "cell_type": "code",
   "execution_count": 18,
   "id": "296c0cdc",
   "metadata": {},
   "outputs": [],
   "source": [
    "# calculating Price_Per_Unit where Quantity and Total_Spent are not null\n",
    "# using apply function to calculate the Price_Per_Unit\n",
    "data[\"Price_Per_Unit\"] = data.apply(\n",
    "    lambda x: x[\"Total_Spent\"] / x[\"Quantity\"] if x[\"Quantity\"] and x[\"Total_Spent\"] != 0 else 0, axis=1\n",
    ").astype(int)"
   ]
  },
  {
   "cell_type": "markdown",
   "id": "a94b6e43",
   "metadata": {},
   "source": [
    "# Calculating Quantity for missing values"
   ]
  },
  {
   "cell_type": "code",
   "execution_count": 19,
   "id": "d61da8bb",
   "metadata": {},
   "outputs": [],
   "source": [
    "# calculating Quantity where Price_Per_Unit and Total_Spent are not null\n",
    "# using apply function to calculate the Quantity\n",
    "data[\"Quantity\"] = data.apply(\n",
    "    lambda x: x[\"Total_Spent\"] / x[\"Price_Per_Unit\"] if x[\"Price_Per_Unit\"] and x[\"Total_Spent\"] != 0 else 0, axis=1\n",
    ").astype(int)"
   ]
  },
  {
   "cell_type": "markdown",
   "id": "1b1402f7",
   "metadata": {},
   "source": [
    "# Dropping duplicates"
   ]
  },
  {
   "cell_type": "code",
   "execution_count": 20,
   "id": "18a950b8",
   "metadata": {},
   "outputs": [
    {
     "name": "stdout",
     "output_type": "stream",
     "text": [
      "Total duplicates in Transaction_ID: 0\n",
      "Total duplicates: 0\n"
     ]
    }
   ],
   "source": [
    "# checking for duplicates\n",
    "data.drop_duplicates(inplace=True)\n",
    "# checking for duplicates in Transaction_ID column\n",
    "duplicates = data[data.duplicated(subset=['Transaction_ID'], keep=False)]\n",
    "print(f\"Total duplicates in Transaction_ID: {duplicates.shape[0]}\")\n",
    "# checking for the total number duplicates \n",
    "print(f\"Total duplicates: {data.duplicated().sum()}\")"
   ]
  },
  {
   "cell_type": "markdown",
   "id": "f8ddba62",
   "metadata": {},
   "source": [
    "# Sorting data in Ascending Order"
   ]
  },
  {
   "cell_type": "code",
   "execution_count": 21,
   "id": "71b5b17f",
   "metadata": {},
   "outputs": [],
   "source": [
    "# checking for duplicates in Transaction_ID column\n",
    "data.sort_values(by='Transaction_ID', ascending=True, inplace=True)"
   ]
  },
  {
   "cell_type": "code",
   "execution_count": 22,
   "id": "dba35a6c",
   "metadata": {},
   "outputs": [
    {
     "data": {
      "application/vnd.microsoft.datawrangler.viewer.v0+json": {
       "columns": [
        {
         "name": "index",
         "rawType": "int64",
         "type": "integer"
        },
        {
         "name": "Transaction_ID",
         "rawType": "object",
         "type": "string"
        },
        {
         "name": "Item",
         "rawType": "object",
         "type": "string"
        },
        {
         "name": "Quantity",
         "rawType": "int64",
         "type": "integer"
        },
        {
         "name": "Price_Per_Unit",
         "rawType": "int64",
         "type": "integer"
        },
        {
         "name": "Total_Spent",
         "rawType": "int64",
         "type": "integer"
        },
        {
         "name": "Payment_Method",
         "rawType": "object",
         "type": "string"
        },
        {
         "name": "Location",
         "rawType": "object",
         "type": "string"
        },
        {
         "name": "Transaction_Date",
         "rawType": "object",
         "type": "unknown"
        }
       ],
       "conversionMethod": "pd.DataFrame",
       "ref": "64d99345-f083-4924-992f-a3a6a61f1954",
       "rows": [
        [
         "0",
         "TXN_1961373",
         "Coffee",
         "2",
         "2",
         "4",
         "Credit Card",
         "Takeaway",
         "2023-09-08 00:00:00"
        ],
        [
         "1",
         "TXN_4977031",
         "Cake",
         "4",
         "3",
         "12",
         "Cash",
         "In-store",
         "2023-05-16 00:00:00"
        ],
        [
         "2",
         "TXN_4271903",
         "Cookie",
         "4",
         "1",
         "4",
         "Credit Card",
         "In-store",
         "2023-07-19 00:00:00"
        ],
        [
         "3",
         "TXN_7034554",
         "Salad",
         "2",
         "5",
         "10",
         "Unknown",
         "Unknown",
         "2023-04-27 00:00:00"
        ],
        [
         "4",
         "TXN_3160411",
         "Coffee",
         "2",
         "2",
         "4",
         "Digital Wallet",
         "In-store",
         "2023-06-11 00:00:00"
        ],
        [
         "5",
         "TXN_2602893",
         "Smoothie",
         "5",
         "4",
         "20",
         "Credit Card",
         "Unknown",
         "2023-03-31 00:00:00"
        ],
        [
         "6",
         "TXN_4433211",
         "Unknown",
         "3",
         "3",
         "9",
         "Unknown",
         "Takeaway",
         "2023-10-06 00:00:00"
        ],
        [
         "7",
         "TXN_6699534",
         "Sandwich",
         "4",
         "4",
         "16",
         "Cash",
         "Unknown",
         "2023-10-28 00:00:00"
        ],
        [
         "8",
         "TXN_4717867",
         "Unknown",
         "5",
         "3",
         "15",
         "Unknown",
         "Takeaway",
         "2023-07-28 00:00:00"
        ],
        [
         "9",
         "TXN_2064365",
         "Sandwich",
         "5",
         "4",
         "20",
         "Unknown",
         "In-store",
         "2023-12-31 00:00:00"
        ],
        [
         "10",
         "TXN_2548360",
         "Salad",
         "5",
         "5",
         "25",
         "Cash",
         "Takeaway",
         "2023-11-07 00:00:00"
        ],
        [
         "11",
         "TXN_3051279",
         "Sandwich",
         "2",
         "4",
         "8",
         "Credit Card",
         "Takeaway",
         "Unknown"
        ],
        [
         "12",
         "TXN_7619095",
         "Sandwich",
         "2",
         "4",
         "8",
         "Cash",
         "In-store",
         "2023-05-03 00:00:00"
        ],
        [
         "13",
         "TXN_9437049",
         "Cookie",
         "5",
         "1",
         "5",
         "Unknown",
         "Takeaway",
         "2023-06-01 00:00:00"
        ],
        [
         "14",
         "TXN_8915701",
         "Unknown",
         "2",
         "1",
         "2",
         "Unknown",
         "In-store",
         "2023-03-21 00:00:00"
        ],
        [
         "15",
         "TXN_2847255",
         "Salad",
         "3",
         "5",
         "15",
         "Credit Card",
         "In-store",
         "2023-11-15 00:00:00"
        ],
        [
         "16",
         "TXN_3765707",
         "Sandwich",
         "1",
         "4",
         "4",
         "Unknown",
         "Unknown",
         "2023-06-10 00:00:00"
        ],
        [
         "17",
         "TXN_6769710",
         "Juice",
         "2",
         "3",
         "6",
         "Cash",
         "In-store",
         "2023-02-24 00:00:00"
        ],
        [
         "18",
         "TXN_8876618",
         "Cake",
         "5",
         "3",
         "15",
         "Cash",
         "Unknown",
         "2023-03-25 00:00:00"
        ],
        [
         "19",
         "TXN_3709394",
         "Juice",
         "4",
         "3",
         "12",
         "Cash",
         "Takeaway",
         "2023-01-15 00:00:00"
        ],
        [
         "20",
         "TXN_3522028",
         "Smoothie",
         "0",
         "0",
         "0",
         "Cash",
         "In-store",
         "2023-04-04 00:00:00"
        ],
        [
         "21",
         "TXN_3567645",
         "Smoothie",
         "4",
         "4",
         "16",
         "Credit Card",
         "Takeaway",
         "2023-03-30 00:00:00"
        ],
        [
         "22",
         "TXN_5132361",
         "Sandwich",
         "3",
         "4",
         "12",
         "Digital Wallet",
         "Takeaway",
         "2023-12-01 00:00:00"
        ],
        [
         "23",
         "TXN_2616390",
         "Sandwich",
         "2",
         "4",
         "8",
         "Unknown",
         "Unknown",
         "2023-09-18 00:00:00"
        ],
        [
         "24",
         "TXN_9400181",
         "Sandwich",
         "5",
         "4",
         "20",
         "Cash",
         "In-store",
         "2023-06-03 00:00:00"
        ],
        [
         "25",
         "TXN_7958992",
         "Smoothie",
         "3",
         "4",
         "12",
         "Unknown",
         "Unknown",
         "2023-12-13 00:00:00"
        ],
        [
         "26",
         "TXN_5183041",
         "Cookie",
         "5",
         "1",
         "5",
         "Credit Card",
         "In-store",
         "2023-04-20 00:00:00"
        ],
        [
         "27",
         "TXN_5695074",
         "Juice",
         "4",
         "3",
         "12",
         "Credit Card",
         "Takeaway",
         "2023-04-10 00:00:00"
        ],
        [
         "28",
         "TXN_8467949",
         "Smoothie",
         "5",
         "4",
         "20",
         "Credit Card",
         "Unknown",
         "2023-03-11 00:00:00"
        ],
        [
         "29",
         "TXN_7640952",
         "Cake",
         "4",
         "3",
         "12",
         "Digital Wallet",
         "Takeaway",
         "Unknown"
        ],
        [
         "30",
         "TXN_1736287",
         "Unknown",
         "5",
         "2",
         "10",
         "Digital Wallet",
         "Unknown",
         "2023-06-02 00:00:00"
        ],
        [
         "31",
         "TXN_8927252",
         "Unknown",
         "2",
         "1",
         "2",
         "Credit Card",
         "Unknown",
         "2023-11-06 00:00:00"
        ],
        [
         "32",
         "TXN_9677376",
         "Smoothie",
         "4",
         "4",
         "16",
         "Unknown",
         "In-store",
         "2023-08-15 00:00:00"
        ],
        [
         "33",
         "TXN_7710508",
         "Unknown",
         "5",
         "1",
         "5",
         "Cash",
         "Unknown",
         "Unknown"
        ],
        [
         "34",
         "TXN_8853997",
         "Smoothie",
         "2",
         "4",
         "8",
         "Digital Wallet",
         "Takeaway",
         "2023-10-09 00:00:00"
        ],
        [
         "35",
         "TXN_9130559",
         "Sandwich",
         "1",
         "4",
         "4",
         "Credit Card",
         "Unknown",
         "2023-05-28 00:00:00"
        ],
        [
         "36",
         "TXN_6855453",
         "Unknown",
         "4",
         "3",
         "12",
         "Unknown",
         "In-store",
         "2023-07-17 00:00:00"
        ],
        [
         "37",
         "TXN_1080432",
         "Salad",
         "2",
         "5",
         "10",
         "Credit Card",
         "In-store",
         "2023-04-29 00:00:00"
        ],
        [
         "38",
         "TXN_2655815",
         "Smoothie",
         "4",
         "4",
         "16",
         "Unknown",
         "Takeaway",
         "2023-06-08 00:00:00"
        ],
        [
         "39",
         "TXN_6688524",
         "Coffee",
         "4",
         "2",
         "8",
         "Unknown",
         "Unknown",
         "2023-06-29 00:00:00"
        ],
        [
         "40",
         "TXN_2083138",
         "Smoothie",
         "3",
         "4",
         "12",
         "Unknown",
         "In-store",
         "2023-04-17 00:00:00"
        ],
        [
         "41",
         "TXN_2427584",
         "Sandwich",
         "4",
         "4",
         "16",
         "Unknown",
         "Takeaway",
         "2023-12-22 00:00:00"
        ],
        [
         "42",
         "TXN_6650263",
         "Tea",
         "2",
         "1",
         "2",
         "Unknown",
         "Takeaway",
         "2023-01-10 00:00:00"
        ],
        [
         "43",
         "TXN_9620080",
         "Juice",
         "4",
         "3",
         "12",
         "Unknown",
         "Takeaway",
         "2023-10-02 00:00:00"
        ],
        [
         "44",
         "TXN_1491578",
         "Cookie",
         "2",
         "1",
         "2",
         "Unknown",
         "Unknown",
         "2023-02-23 00:00:00"
        ],
        [
         "45",
         "TXN_5455792",
         "Salad",
         "3",
         "5",
         "15",
         "Cash",
         "Unknown",
         "2023-03-22 00:00:00"
        ],
        [
         "46",
         "TXN_8078640",
         "Juice",
         "4",
         "3",
         "12",
         "Digital Wallet",
         "In-store",
         "2023-11-03 00:00:00"
        ],
        [
         "47",
         "TXN_9499313",
         "Juice",
         "5",
         "3",
         "15",
         "Unknown",
         "Unknown",
         "2023-03-02 00:00:00"
        ],
        [
         "48",
         "TXN_8201146",
         "Juice",
         "5",
         "3",
         "15",
         "Cash",
         "Unknown",
         "2023-06-26 00:00:00"
        ],
        [
         "49",
         "TXN_8230936",
         "Cake",
         "3",
         "3",
         "9",
         "Unknown",
         "Unknown",
         "2023-05-02 00:00:00"
        ]
       ],
       "shape": {
        "columns": 8,
        "rows": 10000
       }
      },
      "text/html": [
       "<div>\n",
       "<style scoped>\n",
       "    .dataframe tbody tr th:only-of-type {\n",
       "        vertical-align: middle;\n",
       "    }\n",
       "\n",
       "    .dataframe tbody tr th {\n",
       "        vertical-align: top;\n",
       "    }\n",
       "\n",
       "    .dataframe thead th {\n",
       "        text-align: right;\n",
       "    }\n",
       "</style>\n",
       "<table border=\"1\" class=\"dataframe\">\n",
       "  <thead>\n",
       "    <tr style=\"text-align: right;\">\n",
       "      <th></th>\n",
       "      <th>Transaction_ID</th>\n",
       "      <th>Item</th>\n",
       "      <th>Quantity</th>\n",
       "      <th>Price_Per_Unit</th>\n",
       "      <th>Total_Spent</th>\n",
       "      <th>Payment_Method</th>\n",
       "      <th>Location</th>\n",
       "      <th>Transaction_Date</th>\n",
       "    </tr>\n",
       "  </thead>\n",
       "  <tbody>\n",
       "    <tr>\n",
       "      <th>0</th>\n",
       "      <td>TXN_1961373</td>\n",
       "      <td>Coffee</td>\n",
       "      <td>2</td>\n",
       "      <td>2</td>\n",
       "      <td>4</td>\n",
       "      <td>Credit Card</td>\n",
       "      <td>Takeaway</td>\n",
       "      <td>2023-09-08 00:00:00</td>\n",
       "    </tr>\n",
       "    <tr>\n",
       "      <th>1</th>\n",
       "      <td>TXN_4977031</td>\n",
       "      <td>Cake</td>\n",
       "      <td>4</td>\n",
       "      <td>3</td>\n",
       "      <td>12</td>\n",
       "      <td>Cash</td>\n",
       "      <td>In-store</td>\n",
       "      <td>2023-05-16 00:00:00</td>\n",
       "    </tr>\n",
       "    <tr>\n",
       "      <th>2</th>\n",
       "      <td>TXN_4271903</td>\n",
       "      <td>Cookie</td>\n",
       "      <td>4</td>\n",
       "      <td>1</td>\n",
       "      <td>4</td>\n",
       "      <td>Credit Card</td>\n",
       "      <td>In-store</td>\n",
       "      <td>2023-07-19 00:00:00</td>\n",
       "    </tr>\n",
       "    <tr>\n",
       "      <th>3</th>\n",
       "      <td>TXN_7034554</td>\n",
       "      <td>Salad</td>\n",
       "      <td>2</td>\n",
       "      <td>5</td>\n",
       "      <td>10</td>\n",
       "      <td>Unknown</td>\n",
       "      <td>Unknown</td>\n",
       "      <td>2023-04-27 00:00:00</td>\n",
       "    </tr>\n",
       "    <tr>\n",
       "      <th>4</th>\n",
       "      <td>TXN_3160411</td>\n",
       "      <td>Coffee</td>\n",
       "      <td>2</td>\n",
       "      <td>2</td>\n",
       "      <td>4</td>\n",
       "      <td>Digital Wallet</td>\n",
       "      <td>In-store</td>\n",
       "      <td>2023-06-11 00:00:00</td>\n",
       "    </tr>\n",
       "    <tr>\n",
       "      <th>...</th>\n",
       "      <td>...</td>\n",
       "      <td>...</td>\n",
       "      <td>...</td>\n",
       "      <td>...</td>\n",
       "      <td>...</td>\n",
       "      <td>...</td>\n",
       "      <td>...</td>\n",
       "      <td>...</td>\n",
       "    </tr>\n",
       "    <tr>\n",
       "      <th>9995</th>\n",
       "      <td>TXN_7672686</td>\n",
       "      <td>Coffee</td>\n",
       "      <td>2</td>\n",
       "      <td>2</td>\n",
       "      <td>4</td>\n",
       "      <td>Unknown</td>\n",
       "      <td>Unknown</td>\n",
       "      <td>2023-08-30 00:00:00</td>\n",
       "    </tr>\n",
       "    <tr>\n",
       "      <th>9996</th>\n",
       "      <td>TXN_9659401</td>\n",
       "      <td>Unknown</td>\n",
       "      <td>0</td>\n",
       "      <td>0</td>\n",
       "      <td>0</td>\n",
       "      <td>Digital Wallet</td>\n",
       "      <td>Unknown</td>\n",
       "      <td>2023-06-02 00:00:00</td>\n",
       "    </tr>\n",
       "    <tr>\n",
       "      <th>9997</th>\n",
       "      <td>TXN_5255387</td>\n",
       "      <td>Coffee</td>\n",
       "      <td>4</td>\n",
       "      <td>2</td>\n",
       "      <td>8</td>\n",
       "      <td>Digital Wallet</td>\n",
       "      <td>Unknown</td>\n",
       "      <td>2023-03-02 00:00:00</td>\n",
       "    </tr>\n",
       "    <tr>\n",
       "      <th>9998</th>\n",
       "      <td>TXN_7695629</td>\n",
       "      <td>Cookie</td>\n",
       "      <td>0</td>\n",
       "      <td>0</td>\n",
       "      <td>0</td>\n",
       "      <td>Digital Wallet</td>\n",
       "      <td>Unknown</td>\n",
       "      <td>2023-12-02 00:00:00</td>\n",
       "    </tr>\n",
       "    <tr>\n",
       "      <th>9999</th>\n",
       "      <td>TXN_6170729</td>\n",
       "      <td>Sandwich</td>\n",
       "      <td>3</td>\n",
       "      <td>4</td>\n",
       "      <td>12</td>\n",
       "      <td>Cash</td>\n",
       "      <td>In-store</td>\n",
       "      <td>2023-11-07 00:00:00</td>\n",
       "    </tr>\n",
       "  </tbody>\n",
       "</table>\n",
       "<p>10000 rows × 8 columns</p>\n",
       "</div>"
      ],
      "text/plain": [
       "     Transaction_ID      Item  Quantity  Price_Per_Unit  Total_Spent  \\\n",
       "0       TXN_1961373    Coffee         2               2            4   \n",
       "1       TXN_4977031      Cake         4               3           12   \n",
       "2       TXN_4271903    Cookie         4               1            4   \n",
       "3       TXN_7034554     Salad         2               5           10   \n",
       "4       TXN_3160411    Coffee         2               2            4   \n",
       "...             ...       ...       ...             ...          ...   \n",
       "9995    TXN_7672686    Coffee         2               2            4   \n",
       "9996    TXN_9659401   Unknown         0               0            0   \n",
       "9997    TXN_5255387    Coffee         4               2            8   \n",
       "9998    TXN_7695629    Cookie         0               0            0   \n",
       "9999    TXN_6170729  Sandwich         3               4           12   \n",
       "\n",
       "      Payment_Method  Location     Transaction_Date  \n",
       "0        Credit Card  Takeaway  2023-09-08 00:00:00  \n",
       "1               Cash  In-store  2023-05-16 00:00:00  \n",
       "2        Credit Card  In-store  2023-07-19 00:00:00  \n",
       "3            Unknown   Unknown  2023-04-27 00:00:00  \n",
       "4     Digital Wallet  In-store  2023-06-11 00:00:00  \n",
       "...              ...       ...                  ...  \n",
       "9995         Unknown   Unknown  2023-08-30 00:00:00  \n",
       "9996  Digital Wallet   Unknown  2023-06-02 00:00:00  \n",
       "9997  Digital Wallet   Unknown  2023-03-02 00:00:00  \n",
       "9998  Digital Wallet   Unknown  2023-12-02 00:00:00  \n",
       "9999            Cash  In-store  2023-11-07 00:00:00  \n",
       "\n",
       "[10000 rows x 8 columns]"
      ]
     },
     "execution_count": 22,
     "metadata": {},
     "output_type": "execute_result"
    }
   ],
   "source": [
    "data.sort_index()"
   ]
  },
  {
   "cell_type": "code",
   "execution_count": 23,
   "id": "e5d862c8",
   "metadata": {},
   "outputs": [
    {
     "name": "stdout",
     "output_type": "stream",
     "text": [
      "Total anomalies: 0\n"
     ]
    }
   ],
   "source": [
    "# checking for anomaly values in the data\n",
    "anomalies = data[(data['Quantity'] < 0) | (data['Price_Per_Unit'] < 0) | (data['Total_Spent'] < 0)]\n",
    "print(f\"Total anomalies: {anomalies.shape[0]}\")"
   ]
  }
 ],
 "metadata": {
  "kernelspec": {
   "display_name": "Python 3",
   "language": "python",
   "name": "python3"
  },
  "language_info": {
   "codemirror_mode": {
    "name": "ipython",
    "version": 3
   },
   "file_extension": ".py",
   "mimetype": "text/x-python",
   "name": "python",
   "nbconvert_exporter": "python",
   "pygments_lexer": "ipython3",
   "version": "3.13.2"
  }
 },
 "nbformat": 4,
 "nbformat_minor": 5
}
